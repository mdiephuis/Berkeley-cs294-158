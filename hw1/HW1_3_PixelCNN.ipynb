{
 "cells": [
  {
   "cell_type": "code",
   "execution_count": 219,
   "metadata": {},
   "outputs": [
    {
     "name": "stdout",
     "output_type": "stream",
     "text": [
      "The autoreload extension is already loaded. To reload it, use:\n",
      "  %reload_ext autoreload\n"
     ]
    }
   ],
   "source": [
    "import numpy as np\n",
    "import os\n",
    "import glob\n",
    "import tqdm\n",
    "import pickle\n",
    "import matplotlib.pyplot as plt\n",
    "import seaborn as sns\n",
    "from sklearn.model_selection import train_test_split\n",
    "\n",
    "import torch\n",
    "import torch.nn as nn\n",
    "import torch.nn.init as init\n",
    "from torch.optim import Adam, SGD\n",
    "from torch.autograd import Variable\n",
    "from torch.utils.data import DataLoader, TensorDataset, Dataset\n",
    "from torch.utils.data import sampler\n",
    "\n",
    "import torchvision.datasets as dset\n",
    "import torchvision.transforms as T\n",
    "import torch.nn.functional as F\n",
    "eps = np.finfo(float).eps\n",
    "\n",
    "import tqdm\n",
    "\n",
    "plt.rcParams['figure.figsize'] = 10, 10\n",
    "%matplotlib inline\n",
    "sns.set()\n",
    "\n",
    "%load_ext autoreload\n",
    "%autoreload 2"
   ]
  },
  {
   "cell_type": "code",
   "execution_count": 211,
   "metadata": {},
   "outputs": [],
   "source": [
    "use_cuda = True\n",
    "use_cuda = use_cuda and torch.cuda.is_available()"
   ]
  },
  {
   "cell_type": "code",
   "execution_count": 212,
   "metadata": {},
   "outputs": [],
   "source": [
    "class CMNIST(Dataset):\n",
    "    def __init__(self, data, transform=None):\n",
    "        self.data = data\n",
    "        self.transform = transform\n",
    "        \n",
    "    def __len__(self):\n",
    "        return self.data.shape[0]\n",
    "        \n",
    "    def __getitem__(self, idx):\n",
    "        x = self.data[idx, :]\n",
    "        \n",
    "        if self.transform is None:\n",
    "            self.transform = T.ToTensor()\n",
    "        x = self.transform(x)\n",
    "                \n",
    "        return x"
   ]
  },
  {
   "cell_type": "code",
   "execution_count": 213,
   "metadata": {},
   "outputs": [],
   "source": [
    "def load_data(path):\n",
    "    with open(path, 'rb') as fp:\n",
    "        data = pickle.load(fp)\n",
    "    train_valid = data['train'].astype(np.float32)\n",
    "    test = data['test'].astype(np.float32)\n",
    "    return train_valid, test\n",
    "\n",
    "train_valid, x_test = load_data('../data/mnist-hw1.pkl')\n",
    "x_train = train_valid[:int(len(train_valid)*0.8)]\n",
    "x_valid = train_valid[int(len(train_valid)*0.8):]\n",
    "\n",
    "batch_size = 128\n",
    "\n",
    "\n",
    "transform = T.Compose([T.ToTensor()])\n",
    "\n",
    "dataloader_train = DataLoader(CMNIST(x_train, transform=transform), batch_size=batch_size, \n",
    "                              shuffle=True, num_workers=4, pin_memory=True)\n",
    "\n",
    "dataloader_val = DataLoader(CMNIST(x_valid, transform=transform), batch_size=batch_size,\n",
    "                              shuffle=True, num_workers=4, pin_memory=True)\n",
    "\n",
    "dataloader_test = DataLoader(CMNIST(x_test, transform=transform), batch_size=batch_size, \n",
    "                              shuffle=True, num_workers=4, pin_memory=True)\n"
   ]
  },
  {
   "cell_type": "code",
   "execution_count": 214,
   "metadata": {},
   "outputs": [],
   "source": [
    "def type_tdouble(use_cuda=False):\n",
    "    return torch.cuda.DoubleTensor if use_cuda else torch.DoubleTensor\n",
    "\n",
    "def init_weights(module):\n",
    "    for m in module.modules():\n",
    "        if isinstance(m, nn.Linear) or isinstance(m, nn.Conv2d):\n",
    "            init.xavier_normal_(m.weight.data)\n",
    "            if hasattr(m, 'bias') and m.bias is not None:\n",
    "                init.constant_(m.bias, 0.0)\n",
    "        elif isinstance(m, nn.Sequential):\n",
    "            for sub_mod in m:\n",
    "                init_weights(sub_mod)\n",
    "                \n",
    "def one_hot(labels, n_class, use_cuda=False):\n",
    "    # Ensure labels are [N x 1]\n",
    "    if len(list(labels.size())) == 1:\n",
    "        labels = labels.unsqueeze(1)\n",
    "    mask = type_tdouble(use_cuda)(labels.size(0), n_class).fill_(0)\n",
    "    # scatter dimension, position indices, fill_value\n",
    "    return mask.scatter_(1, labels, 1)"
   ]
  },
  {
   "cell_type": "code",
   "execution_count": 215,
   "metadata": {},
   "outputs": [],
   "source": [
    "class MaskedConv2d(nn.Conv2d):\n",
    "    \n",
    "    def __init__(self, mask_type, *args, **kwargs):\n",
    "        super(MaskedConv2d, self).__init__(*args, **kwargs)\n",
    "        self.mask_type = mask_type\n",
    "        self.register_buffer('mask', self.weight.data.clone())\n",
    "        _, _, kernel_height, kernel_width = self.weight.size()\n",
    "        self.mask.fill_(0)\n",
    "        half_h, half_w = kernel_height // 2, kernel_width // 2\n",
    "    \n",
    "        self.mask[:, :, :half_h, :] = 1.0\n",
    "        self.mask[:, :, half_h, :half_w] = 1.0\n",
    "        if self.mask_type == 'A':\n",
    "            self.mask[:, :, half_h, half_w] = 0.0\n",
    "        else:\n",
    "            self.mask[:, :, half_h, half_w] = 1.0\n",
    "        \n",
    "    def forward(self, x):\n",
    "        self.weight.data *= self.mask\n",
    "        return super(MaskedConv2d, self).forward(x)\n",
    "\n",
    "    \n",
    "class ResidualBlock(nn.Module):\n",
    "    def __init__(self, h):\n",
    "        super(ResidualBlock, self).__init__()\n",
    "        self.h = h\n",
    "        # todo: set padding to same\n",
    "        self.network = []\n",
    "        self.network.extend([\n",
    "            nn.Conv2d(self.h, self.h // 2, (1, 1)),\n",
    "            nn.BatchNorm2d(self.h // 2),\n",
    "            nn.ReLU()\n",
    "        ])\n",
    "        self.network.extend([\n",
    "            MaskedConv2d('B', self.h // 2, self.h // 2, (3, 3), padding=1),\n",
    "            nn.BatchNorm2d(self.h // 2),\n",
    "            nn.ReLU()\n",
    "        ])\n",
    "        \n",
    "        self.network.extend([\n",
    "            nn.Conv2d(self.h // 2, self.h, (1, 1)),\n",
    "            nn.BatchNorm2d(self.h),\n",
    "            nn.ReLU()\n",
    "        ])\n",
    "        \n",
    "        self.network = nn.Sequential(*self.network)\n",
    "        \n",
    "    def forward(self, x):\n",
    "        skip = x\n",
    "        x = self.network(x)\n",
    "        return F.relu(x + skip)\n",
    "\n",
    "\n",
    "class PixelCNN(nn.Module):\n",
    "    def __init__(self, in_channels, out_channels):\n",
    "        super(PixelCNN, self).__init__()\n",
    "        \n",
    "        self.in_channels = in_channels\n",
    "        self.out_channels = out_channels\n",
    "        \n",
    "        self.network = []\n",
    "        \n",
    "        # 7x7 Conv input, type A\n",
    "        self.network.extend([\n",
    "            MaskedConv2d('A', 3, self.in_channels, (7, 7), padding=3),\n",
    "            nn.BatchNorm2d(self.in_channels),\n",
    "            nn.ReLU()\n",
    "        ])\n",
    "\n",
    "        self.network.extend(\n",
    "            [ResidualBlock(self.in_channels) for _ in range(15)]\n",
    "        )\n",
    "        \n",
    "        # 3x3 Conv input, type B\n",
    "        self.network.extend([\n",
    "            MaskedConv2d('B', self.in_channels, self.in_channels, (3, 3), padding=1),\n",
    "            nn.BatchNorm2d(self.in_channels),\n",
    "            nn.ReLU(),\n",
    "        ])\n",
    "        \n",
    "        # 1x1 Conv input\n",
    "        self.network.extend([\n",
    "            nn.Conv2d(self.in_channels, self.in_channels, (1, 1)),\n",
    "            nn.BatchNorm2d(self.in_channels),\n",
    "            nn.ReLU(),\n",
    "            nn.Conv2d(self.in_channels, self.out_channels, (1, 1)),\n",
    "        ])\n",
    "        \n",
    "        self.network = nn.Sequential(*self.network)\n",
    "        \n",
    "    def forward(self, x):\n",
    "        x = self.network(x)\n",
    "        torch.reshape(x, (-1, 28, 28, 12))\n",
    "        sm = F.softmax(x, dim=-1)\n",
    "        return sm"
   ]
  },
  {
   "cell_type": "code",
   "execution_count": 216,
   "metadata": {},
   "outputs": [],
   "source": [
    "def loss_bcel(x, x_hat):\n",
    "    BCEL = F.binary_cross_entropy_with_logits(\n",
    "        x_hat.view(-1, 1), x.view(-1, 1), reduction='mean')\n",
    "    return BCEL\n",
    "\n",
    "\n",
    "def loss_bce(x, x_hat):\n",
    "    BCE = F.binary_cross_entropy(\n",
    "        x_hat.view(-1, 1), x.view(-1, 1), reduction='mean')\n",
    "    return BCE\n",
    "\n",
    "\n",
    "def train_validate(model, dataloader, optim, loss_fn, train):\n",
    "    model.train() if train else model.eval()\n",
    "    total_loss = 0\n",
    "    for batch_idx, x in enumerate(dataloader):\n",
    "        x = x.cuda() if use_cuda else x\n",
    "        \n",
    "        target = x.clone()\n",
    "        target = one_hot(target.permute(0, 2, 3, 1).reshape(-1, 1).long(), 4, use_cuda).float()\n",
    "        target.reshape(x.size(0), 28, 28, 3 * 4).permute(0, 3, 2, 1)\n",
    "        \n",
    "        x_hat = model(x)\n",
    "        loss = loss_fn(target, x_hat)\n",
    "\n",
    "        if train:\n",
    "            optim.zero_grad()\n",
    "            loss.backward()\n",
    "            optim.step()\n",
    "\n",
    "        total_loss += loss.item()\n",
    "    return total_loss / len(dataloader.dataset)"
   ]
  },
  {
   "cell_type": "code",
   "execution_count": 217,
   "metadata": {
    "scrolled": true
   },
   "outputs": [
    {
     "data": {
      "application/vnd.jupyter.widget-view+json": {
       "model_id": "0e85413adc514359a8c28b77b8c80395",
       "version_major": 2,
       "version_minor": 0
      },
      "text/plain": [
       "HBox(children=(IntProgress(value=0, max=35), HTML(value='')))"
      ]
     },
     "metadata": {},
     "output_type": "display_data"
    }
   ],
   "source": [
    "batch_size = 128\n",
    "\n",
    "model = PixelCNN(128, 3*4)\n",
    "model = model.cuda() if use_cuda else model\n",
    "model.apply(init_weights)\n",
    "\n",
    "optim = torch.optim.Adam(model.parameters(), 1e-3, weight_decay=1e-4)\n",
    "scheduler = torch.optim.lr_scheduler.StepLR(optim, step_size=45, gamma=0.1)\n",
    "\n",
    "# loss_fn = F.cross_entropy\n",
    "loss_fn = loss_bce\n",
    "n_epochs = 35\n",
    "\n",
    "train_loss = []\n",
    "val_loss = []\n",
    "for epoch in tqdm.tqdm_notebook(range(0, n_epochs)):\n",
    "    scheduler.step(epoch)\n",
    "    t_loss = train_validate(model, dataloader_train, optim, loss_fn, train=True)\n",
    "    train_loss.append(t_loss)\n",
    "\n",
    "    if epoch % 5 == 0:\n",
    "        v_loss = train_validate(model, dataloader_val, optim, loss_fn, train=False)\n",
    "        val_loss.append(v_loss)\n",
    "        "
   ]
  },
  {
   "cell_type": "code",
   "execution_count": 218,
   "metadata": {},
   "outputs": [
    {
     "data": {
      "image/png": "[encoded data removed]",
      "text/plain": [
       "<Figure size 360x360 with 1 Axes>"
      ]
     },
     "metadata": {},
     "output_type": "display_data"
    }
   ],
   "source": [
    "sns.set()\n",
    "plt.rcParams['figure.figsize'] = 5, 5\n",
    "plt.plot(np.arange(len(train_loss)), train_loss, label='train')\n",
    "plt.plot(np.arange(0, len(val_loss) * 5, 5), val_loss, label='val')\n",
    "plt.title('Training')\n",
    "plt.xlabel('Step')\n",
    "plt.ylabel('BCE')\n",
    "plt.legend()\n",
    "plt.grid(True)"
   ]
  },
  {
   "cell_type": "code",
   "execution_count": null,
   "metadata": {},
   "outputs": [],
   "source": [
    "# Model save\n",
    "# Sample / Generate some images"
   ]
  },
  {
   "cell_type": "code",
   "execution_count": 223,
   "metadata": {},
   "outputs": [],
   "source": [
    "torch.save(model.state_dict(), 'models/pixelcnn.pt')"
   ]
  },
  {
   "cell_type": "code",
   "execution_count": null,
   "metadata": {},
   "outputs": [],
   "source": [
    "# model = TheModelClass(*args, **kwargs)\n",
    "# model.load_state_dict(torch.load(PATH))\n",
    "# model.eval()"
   ]
  },
  {
   "cell_type": "code",
   "execution_count": 220,
   "metadata": {},
   "outputs": [],
   "source": [
    "grid = torch.Tensor(144, 3, 28, 28)\n",
    "grid.fill_(0)\n",
    "\n",
    "grid = grid.cuda() if use_cuda else grid\n",
    "\n",
    "model.eval()\n",
    "for i in range(28):\n",
    "    for j in range(28):\n",
    "        out = model(grid)\n",
    "        probs = F.softmax(out[:, :, i, j], dim=1)\n",
    "        grid[:, :, i, j] = torch.multinomial(probs, 1).float() / 4.\n",
    "        \n",
    "im_grid = grid.cpu().detach().numpy()"
   ]
  },
  {
   "cell_type": "code",
   "execution_count": 222,
   "metadata": {},
   "outputs": [
    {
     "data": {
      "image/png": "[encoded data removed]",
      "text/plain": [
       "<Figure size 864x576 with 10 Axes>"
      ]
     },
     "metadata": {},
     "output_type": "display_data"
    }
   ],
   "source": [
    "# fix this\n",
    "plt.rcParams['figure.figsize'] = 12, 8\n",
    "with sns.axes_style('white'):\n",
    "    fig, axis = plt.subplots(nrows=2, ncols=5)\n",
    "    for i in range(10):\n",
    "        axis[(i >= 5) * 1, i % 5].imshow(im_grid[i, 0, :, :].reshape(28, 28), cmap='viridis')\n",
    "plt.show()"
   ]
  },
  {
   "cell_type": "code",
   "execution_count": null,
   "metadata": {},
   "outputs": [],
   "source": []
  }
 ],
 "metadata": {
  "kernelspec": {
   "display_name": "Python 3",
   "language": "python",
   "name": "python3"
  },
  "language_info": {
   "codemirror_mode": {
    "name": "ipython",
    "version": 3
   },
   "file_extension": ".py",
   "mimetype": "text/x-python",
   "name": "python",
   "nbconvert_exporter": "python",
   "pygments_lexer": "ipython3",
   "version": "3.6.7"
  }
 },
 "nbformat": 4,
 "nbformat_minor": 2
}
