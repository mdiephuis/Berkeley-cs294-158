{
 "cells": [
  {
   "cell_type": "code",
   "execution_count": 1,
   "metadata": {},
   "outputs": [],
   "source": [
    "import numpy as np\n",
    "import pandas as pd\n",
    "import os\n",
    "import glob\n",
    "import tqdm\n",
    "import matplotlib.pyplot as plt\n",
    "import seaborn as sns\n",
    "from sklearn.model_selection import train_test_split\n",
    "\n",
    "import torch\n",
    "import torch.nn as nn\n",
    "import torch.nn.init as init\n",
    "from torch.optim import Adam, SGD\n",
    "from torch.autograd import Variable\n",
    "from torch.utils.data import DataLoader, TensorDataset\n",
    "from torch.utils.data import sampler\n",
    "\n",
    "import torchvision.datasets as dset\n",
    "import torchvision.transforms as T\n",
    "import torch.nn.functional as F\n",
    "eps = np.finfo(float).eps\n",
    "\n",
    "import tqdm\n",
    "\n",
    "plt.rcParams['figure.figsize'] = 10, 10\n",
    "%matplotlib inline\n",
    "sns.set()\n",
    "\n",
    "%load_ext autoreload\n",
    "%autoreload 2"
   ]
  },
  {
   "cell_type": "code",
   "execution_count": 2,
   "metadata": {},
   "outputs": [],
   "source": [
    "use_cuda = True\n",
    "use_cuda = use_cuda and torch.cuda.is_available()"
   ]
  },
  {
   "cell_type": "code",
   "execution_count": 3,
   "metadata": {},
   "outputs": [],
   "source": [
    "def load_data(path):\n",
    "    with np.load(path) as f:\n",
    "        x_train = f['train_data']\n",
    "        x_valid = f['valid_data']\n",
    "        x_test = f['test_data']\n",
    "        return x_train, x_valid, x_test"
   ]
  },
  {
   "cell_type": "code",
   "execution_count": 4,
   "metadata": {},
   "outputs": [],
   "source": [
    "def loss_bcel(x, x_hat):\n",
    "    BCEL = F.binary_cross_entropy_with_logits(\n",
    "        x_hat.view(-1, 1), x.view(-1, 1), reduction='mean')\n",
    "    return BCEL\n",
    "\n",
    "\n",
    "def loss_bce(x, x_hat):\n",
    "    BCE = F.binary_cross_entropy(\n",
    "        x_hat.view(-1, 1), x.view(-1, 1), reduction='mean')\n",
    "    return BCE\n",
    "\n",
    "\n",
    "def train_validate(model, dataloader, optim, loss_fn, train):\n",
    "    model.train() if train else model.eval()\n",
    "    total_loss = 0\n",
    "    for batch_idx, x in enumerate(dataloader):\n",
    "        x = x[0]\n",
    "        x_hat = model(x)\n",
    "        loss = loss_fn(x, x_hat)\n",
    "\n",
    "        if train:\n",
    "            optim.zero_grad()\n",
    "            loss.backward()\n",
    "            optim.step()\n",
    "\n",
    "        total_loss += loss.item()\n",
    "    return total_loss / len(dataloader.dataset)\n",
    "\n",
    "\n",
    "def init_weights(module):\n",
    "    for m in module.modules():\n",
    "        if isinstance(m, nn.Linear) or isinstance(m, nn.ConvTranspose2d):\n",
    "            init.xavier_normal_(m.weight.data)\n",
    "            if hasattr(m, 'bias') and m.bias is not None:\n",
    "                init.constant_(m.bias, 0.0)\n",
    "        elif isinstance(m, nn.Sequential):\n",
    "            for sub_mod in m:\n",
    "                init_weights(sub_mod)"
   ]
  },
  {
   "cell_type": "code",
   "execution_count": 7,
   "metadata": {},
   "outputs": [],
   "source": [
    "class MaskedLinear(nn.Linear):\n",
    "    \n",
    "    def __init__(self, in_features, out_features, bias=True):\n",
    "        super(MaskedLinear, self).__init__(in_features, out_features, bias=bias)\n",
    "        self.register_buffer('mask', torch.ones([out_features, in_features]))\n",
    "        self.reset_parameters()\n",
    "\n",
    "    def forward(self, x):\n",
    "        return F.linear(x, self.mask * self.weight, self.bias)\n",
    "    \n",
    "    def set_mask(self, mask):\n",
    "        mask = torch.from_numpy(mask.astype(np.uint8).T)\n",
    "        if not (self.mask.data.size() == mask.size()):\n",
    "            raise Exception('size mask mismatch')\n",
    "        self.mask.data.copy_(mask)\n",
    "        \n",
    "    def reset_parameters(self):\n",
    "        init.kaiming_uniform_(self.weight)\n",
    "        if self.bias is not None:\n",
    "            init.zeros_(self.bias)\n",
    "\n",
    "\n",
    "class MADE1(nn.Module):\n",
    "    def __init__(self, input_size, hidden_sizes, output_size, shuffle_input=False):\n",
    "        super(MADE1, self).__init__()\n",
    "        self.input_size = input_size\n",
    "        self.hidden_sizes = hidden_sizes\n",
    "        self.output_size = output_size\n",
    "        self.shuffle_input = shuffle_input\n",
    "        self.hs = [self.input_size] + self.hidden_sizes + [self.output_size]\n",
    "        \n",
    "        self.network = []\n",
    "        for in_feat, out_feat in zip(self.hs, self.hs[1:]):\n",
    "            self.network.extend([\n",
    "                            MaskedLinear(in_feat, out_feat),\n",
    "                            nn.ReLU(),\n",
    "                            ])\n",
    "        self.network.pop()\n",
    "        self.network = nn.Sequential(*self.network)\n",
    "        # set all masks\n",
    "        self.init_masks()\n",
    "        \n",
    "    def init_masks(self):\n",
    "        # Build the masks\n",
    "        L = len(self.hidden_sizes)\n",
    "        m = {}\n",
    "        m[-1] = rng.permutation(self.input_size) if self.shuffle_input else np.arange(self.input_size)\n",
    "        \n",
    "        rng = np.random.RandomState(0)\n",
    "        for l in range(L):\n",
    "            m[l] = rng.randint(min(m[l - 1]), self.input_size - 1, size=self.hidden_sizes[l])\n",
    "\n",
    "        # Build W Masks\n",
    "        masks = []\n",
    "        for l in range(L):\n",
    "            W = m[l-1][:, None] <= m[l][None, :]\n",
    "            masks.append(W)\n",
    "        # V mask\n",
    "        V = m[L-1][:, None] < m[-1][None, :]\n",
    "        masks.append(V)\n",
    "        \n",
    "        # copied from karpathy\n",
    "        if self.output_size > self.input_size:\n",
    "            k = self.output_size // self.input_size\n",
    "            # replicate the last mask across the other outputs\n",
    "            masks[-1] = np.concatenate([masks[-1]]*k, axis=1)\n",
    "\n",
    "        # Set masks in network\n",
    "        mask_layers = [l for l in self.network.modules() if isinstance(l, MaskedLinear)]\n",
    "        for layer, mask in zip(mask_layers, masks):\n",
    "            layer.set_mask(mask)\n",
    "        \n",
    "    def forward(self, x):\n",
    "        x = self.network(x)\n",
    "        return F.softmax(x, dim=-1)\n",
    "        "
   ]
  },
  {
   "cell_type": "code",
   "execution_count": 8,
   "metadata": {},
   "outputs": [
    {
     "data": {
      "application/vnd.jupyter.widget-view+json": {
       "model_id": "f452c5b9637646c78af2df0c31b19fce",
       "version_major": 2,
       "version_minor": 0
      },
      "text/plain": [
       "HBox(children=(IntProgress(value=0, max=40), HTML(value='')))"
      ]
     },
     "metadata": {},
     "output_type": "display_data"
    },
    {
     "name": "stdout",
     "output_type": "stream",
     "text": [
      "\n"
     ]
    }
   ],
   "source": [
    "x_train, x_valid, x_test = load_data('../data/binarized_mnist.npz')\n",
    "\n",
    "x_train = torch.from_numpy(x_train).cuda() if use_cuda else torch.from_numpy(x_train)\n",
    "x_valid = torch.from_numpy(x_valid).cuda() if use_cuda else torch.from_numpy(x_valid)\n",
    "x_test = torch.from_numpy(x_test).cuda() if use_cuda else torch.from_numpy(x_test)\n",
    "\n",
    "# y_train = torch.zeros(x_train.size()).cuda() if use_cuda\n",
    "# y_valid = torch.zeros(x_test.size()).cuda()\n",
    "\n",
    "input_size = x_train.size(1)\n",
    "output_size = x_train.size(1)\n",
    "hidden_sizes = [784 // 2, 784 // 2]\n",
    "batch_size = 100\n",
    "\n",
    "model = MADE1(input_size, hidden_sizes, output_size, False)\n",
    "model = model.cuda() if use_cuda else model\n",
    "\n",
    "optim = torch.optim.Adam(model.parameters(), 1e-3, weight_decay=1e-4)\n",
    "scheduler = torch.optim.lr_scheduler.StepLR(optim, step_size=45, gamma=0.1)\n",
    "    \n",
    "loss_fn = loss_bce\n",
    "n_epochs = 40\n",
    "\n",
    "dataloader_train = DataLoader(TensorDataset(x_train), batch_size=batch_size, shuffle=True)\n",
    "dataloader_val = DataLoader(TensorDataset(x_valid), batch_size=batch_size, shuffle=True)\n",
    "\n",
    "train_loss = []\n",
    "val_loss = []\n",
    "for epoch in tqdm.tqdm_notebook(range(0, n_epochs)):\n",
    "    scheduler.step(epoch)\n",
    "    t_loss = train_validate(model, dataloader_train, optim, loss_fn, train=True)\n",
    "    train_loss.append(t_loss)\n",
    "\n",
    "    if epoch % 100 == 0:\n",
    "        v_loss = train_validate(model, dataloader_val, optim, loss_fn, train=False)\n",
    "        val_loss.append(v_loss)"
   ]
  },
  {
   "cell_type": "code",
   "execution_count": 9,
   "metadata": {},
   "outputs": [
    {
     "data": {
      "image/png": "[encoded data removed]",
      "text/plain": [
       "<Figure size 360x360 with 1 Axes>"
      ]
     },
     "metadata": {},
     "output_type": "display_data"
    }
   ],
   "source": [
    "sns.set()\n",
    "plt.rcParams['figure.figsize'] = 5, 5\n",
    "plt.plot(np.arange(len(train_loss)), train_loss, label='train')\n",
    "plt.plot(np.arange(0, len(val_loss) * 100, 100), val_loss, label='val')\n",
    "plt.title('Training')\n",
    "plt.xlabel('Step')\n",
    "plt.ylabel('BCE')\n",
    "plt.legend()\n",
    "plt.grid(True)"
   ]
  },
  {
   "cell_type": "code",
   "execution_count": 10,
   "metadata": {},
   "outputs": [],
   "source": [
    "# Test set reconstruction here\n",
    "# \n",
    "x_test_hat = model(x_test)"
   ]
  },
  {
   "cell_type": "code",
   "execution_count": 11,
   "metadata": {},
   "outputs": [],
   "source": [
    "ind = np.random.randint(0, x_test_hat.size(0), 10)\n",
    "im = x_test.cpu().detach().numpy()[ind, :]\n",
    "im_hat = x_test_hat.cpu().detach().numpy()[ind, :]"
   ]
  },
  {
   "cell_type": "code",
   "execution_count": null,
   "metadata": {
    "scrolled": false
   },
   "outputs": [],
   "source": [
    "plt.rcParams['figure.figsize'] = 6, 40\n",
    "with sns.axes_style('white'):\n",
    "    fig, axis = plt.subplots(nrows=10, ncols=2)\n",
    "    \n",
    "    for i in range(10):\n",
    "    \n",
    "        axis[i, 0].imshow(im[i].reshape(28, 28), cmap='gray')\n",
    "        axis[i, 0].set_title('Original')\n",
    "\n",
    "        axis[i, 1].imshow(im_hat[i].reshape(28, 28), cmap='gray')\n",
    "        axis[i, 1].set_title('Reconstruction')"
   ]
  },
  {
   "cell_type": "code",
   "execution_count": null,
   "metadata": {},
   "outputs": [],
   "source": []
  }
 ],
 "metadata": {
  "kernelspec": {
   "display_name": "Python 3",
   "language": "python",
   "name": "python3"
  },
  "language_info": {
   "codemirror_mode": {
    "name": "ipython",
    "version": 3
   },
   "file_extension": ".py",
   "mimetype": "text/x-python",
   "name": "python",
   "nbconvert_exporter": "python",
   "pygments_lexer": "ipython3",
   "version": "3.6.7"
  }
 },
 "nbformat": 4,
 "nbformat_minor": 2
}
