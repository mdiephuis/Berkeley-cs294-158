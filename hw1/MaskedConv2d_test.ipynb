{
 "cells": [
  {
   "cell_type": "code",
   "execution_count": 1,
   "metadata": {},
   "outputs": [],
   "source": [
    "import numpy as np\n",
    "import pandas as pd\n",
    "import os\n",
    "import glob\n",
    "import tqdm\n",
    "import matplotlib.pyplot as plt\n",
    "import seaborn as sns\n",
    "from sklearn.model_selection import train_test_split\n",
    "\n",
    "import torch\n",
    "import torch.nn as nn\n",
    "import torch.nn.init as init\n",
    "from torch.optim import Adam, SGD\n",
    "from torch.autograd import Variable\n",
    "from torch.utils.data import DataLoader, TensorDataset\n",
    "from torch.utils.data import sampler\n",
    "\n",
    "import torchvision.datasets as dset\n",
    "import torchvision.transforms as T\n",
    "import torch.nn.functional as F\n",
    "eps = np.finfo(float).eps\n",
    "\n",
    "import tqdm\n",
    "\n",
    "plt.rcParams['figure.figsize'] = 10, 10\n",
    "%matplotlib inline\n",
    "sns.set()\n",
    "\n",
    "%load_ext autoreload\n",
    "%autoreload 2"
   ]
  },
  {
   "cell_type": "code",
   "execution_count": 2,
   "metadata": {},
   "outputs": [],
   "source": [
    "use_cuda = True\n",
    "use_cuda = use_cuda and torch.cuda.is_available()"
   ]
  },
  {
   "cell_type": "code",
   "execution_count": 3,
   "metadata": {
    "scrolled": false
   },
   "outputs": [],
   "source": [
    "dataloader_train = DataLoader(dset.MNIST('data', train=True, download=True, transform=T.ToTensor()),\n",
    "                     batch_size=128, shuffle=True, num_workers=1, pin_memory=True)\n",
    "dataloader_val = DataLoader(dset.MNIST('data', train=False, download=True, transform=T.ToTensor()),\n",
    "                     batch_size=128, shuffle=False, num_workers=1, pin_memory=True)"
   ]
  },
  {
   "cell_type": "code",
   "execution_count": 4,
   "metadata": {},
   "outputs": [],
   "source": [
    "def train_validate(model, dataloader, optim, loss_fn, train):\n",
    "    model.train() if train else model.eval()\n",
    "    total_loss = 0\n",
    "    for batch_idx, (x, _ )in enumerate(dataloader):\n",
    "        x = x.cuda() if use_cuda else x\n",
    "        target = (x.data[:, 0] * 255).long()\n",
    "        x_hat = model(x)\n",
    "        loss = loss_fn(x_hat, target)\n",
    "        if train:\n",
    "            optim.zero_grad()\n",
    "            loss.backward()\n",
    "            optim.step()\n",
    "\n",
    "        total_loss += loss.item()\n",
    "    return total_loss / len(dataloader.dataset)\n",
    "\n",
    "\n",
    "def init_weights(module):\n",
    "    for m in module.modules():\n",
    "        if isinstance(m, nn.Linear) or isinstance(m, nn.ConvTranspose2d):\n",
    "            init.xavier_normal_(m.weight.data)\n",
    "            if hasattr(m, 'bias') and m.bias is not None:\n",
    "                init.constant_(m.bias, 0.0)\n",
    "        elif isinstance(m, nn.Sequential):\n",
    "            for sub_mod in m:\n",
    "                init_weights(sub_mod)"
   ]
  },
  {
   "cell_type": "code",
   "execution_count": 25,
   "metadata": {},
   "outputs": [],
   "source": [
    "class MaskedConv2d(nn.Conv2d):\n",
    "    \n",
    "    def __init__(self, mask_type, *args, **kwargs):\n",
    "        super(MaskedConv2d, self).__init__(*args, **kwargs)\n",
    "        self.mask_type = mask_type\n",
    "        self.register_buffer('mask', self.weight.data.clone())\n",
    "        _, _, kernel_height, kernel_width = self.weight.size()\n",
    "        self.mask.fill_(0)\n",
    "        half_h, half_w = kernel_height // 2, kernel_width // 2\n",
    "    \n",
    "        self.mask[:, :, :half_h, :] = 1.0\n",
    "        self.mask[:, :, half_h, :half_w] = 1.0\n",
    "        if self.mask_type == 'A':\n",
    "            self.mask[:, :, half_h, half_w] = 0.0\n",
    "        else:\n",
    "            self.mask[:, :, half_h, half_w] = 1.0\n",
    "        \n",
    "    def forward(self, x):\n",
    "        self.weight.data *= self.mask\n",
    "        return super(MaskedConv2d, self).forward(x)\n",
    "\n",
    "    \n",
    "class MaskedNet(nn.Module):\n",
    "    def __init__(self, n_layers, n_filters):\n",
    "        super(MaskedNet, self).__init__()\n",
    "        self.n_layers = n_layers\n",
    "        self.n_filters = n_filters\n",
    "        self.hs = [self.n_filters] * self.n_layers\n",
    "        \n",
    "        self.network = []\n",
    "        self.network.extend([\n",
    "                            MaskedConv2d('A', 1, self.n_filters, 7, 1, 3, bias=False),\n",
    "                            nn.BatchNorm2d(self.n_filters),\n",
    "                            nn.ReLU(True)\n",
    "                            ])\n",
    "        \n",
    "        for in_feat, out_feat in zip(self.hs, self.hs[1:]):\n",
    "            self.network.extend([\n",
    "                            MaskedConv2d('B', in_feat, out_feat, 7, 1, 3, bias=False),\n",
    "                            nn.BatchNorm2d(out_feat),\n",
    "                            nn.ReLU(True)\n",
    "                            ])\n",
    "        \n",
    "        self.network.extend([nn.Conv2d(self.n_filters, 256, 1)])\n",
    "        self.network = nn.Sequential(*self.network)\n",
    "    \n",
    "#         mask_layers = [l for l in self.network.modules() if isinstance(l, MaskedConv2d)]\n",
    "#         for layer in mask_layers:\n",
    "#             print(layer.mask_type)\n",
    "    \n",
    "    def forward(self, x):\n",
    "        return self.network(x)"
   ]
  },
  {
   "cell_type": "code",
   "execution_count": 26,
   "metadata": {
    "scrolled": false
   },
   "outputs": [
    {
     "data": {
      "application/vnd.jupyter.widget-view+json": {
       "model_id": "d9630a684b754f169a345bb1725cb4f9",
       "version_major": 2,
       "version_minor": 0
      },
      "text/plain": [
       "HBox(children=(IntProgress(value=0, max=30), HTML(value='')))"
      ]
     },
     "metadata": {},
     "output_type": "display_data"
    }
   ],
   "source": [
    "fm = 64\n",
    "model = MaskedNet(8, 64)\n",
    "model = model.cuda() if use_cuda else model\n",
    "\n",
    "# if torch.cuda.device_count() > 1 and use_cuda:\n",
    "#     print(\"vroem vroem\")\n",
    "#     model = nn.DataParallel(model)\n",
    "\n",
    "model.apply(init_weights)\n",
    "\n",
    "optim = torch.optim.Adam(model.parameters(), 1e-3, weight_decay=1e-4)\n",
    "scheduler = torch.optim.lr_scheduler.StepLR(optim, step_size=45, gamma=0.1)\n",
    "\n",
    "loss_fn = F.cross_entropy\n",
    "n_epochs = 30\n",
    "\n",
    "train_loss = []\n",
    "val_loss = []\n",
    "for epoch in tqdm.tqdm_notebook(range(0, n_epochs)):\n",
    "    scheduler.step(epoch)\n",
    "    t_loss = train_validate(model, dataloader_train, optim, loss_fn, train=True)\n",
    "    train_loss.append(t_loss)\n",
    "\n",
    "    if epoch % 5 == 0:\n",
    "        v_loss = train_validate(model, dataloader_val, optim, loss_fn, train=False)\n",
    "        val_loss.append(v_loss)\n",
    "        \n",
    "    "
   ]
  },
  {
   "cell_type": "code",
   "execution_count": 27,
   "metadata": {},
   "outputs": [
    {
     "data": {
      "image/png": "[encoded data removed]",
      "text/plain": [
       "<Figure size 360x360 with 1 Axes>"
      ]
     },
     "metadata": {},
     "output_type": "display_data"
    }
   ],
   "source": [
    "sns.set()\n",
    "plt.rcParams['figure.figsize'] = 5, 5\n",
    "plt.plot(np.arange(len(train_loss)), train_loss, label='train')\n",
    "plt.plot(np.arange(0, len(val_loss) * 5, 5), val_loss, label='val')\n",
    "plt.title('Training')\n",
    "plt.xlabel('Step')\n",
    "plt.ylabel('CE')\n",
    "plt.legend()\n",
    "plt.grid(True)"
   ]
  },
  {
   "cell_type": "code",
   "execution_count": 36,
   "metadata": {
    "scrolled": false
   },
   "outputs": [],
   "source": [
    "grid = torch.Tensor(144, 1, 28, 28)\n",
    "grid.fill_(0)\n",
    "\n",
    "grid = grid.cuda() if use_cuda else grid\n",
    "\n",
    "model.eval()\n",
    "for i in range(28):\n",
    "    for j in range(28):\n",
    "        out = model(grid)\n",
    "        probs = F.softmax(out[:, :, i, j], dim=1)\n",
    "        grid[:, :, i, j] = torch.multinomial(probs, 1).float() / 255.\n",
    "        \n",
    "im_grid = grid.cpu().detach().numpy()"
   ]
  },
  {
   "cell_type": "code",
   "execution_count": 37,
   "metadata": {},
   "outputs": [
    {
     "data": {
      "image/png": "[encoded data removed]",
      "text/plain": [
       "<Figure size 864x576 with 10 Axes>"
      ]
     },
     "metadata": {},
     "output_type": "display_data"
    }
   ],
   "source": [
    "plt.rcParams['figure.figsize'] = 12, 8\n",
    "with sns.axes_style('white'):\n",
    "    fig, axis = plt.subplots(nrows=2, ncols=5)\n",
    "    for i in range(10):\n",
    "        axis[(i >= 5) * 1, i % 5].imshow(im_grid[i, 0, :, :].reshape(28, 28), cmap='gray')\n",
    "plt.show()"
   ]
  },
  {
   "cell_type": "code",
   "execution_count": null,
   "metadata": {},
   "outputs": [],
   "source": []
  }
 ],
 "metadata": {
  "kernelspec": {
   "display_name": "Python 3",
   "language": "python",
   "name": "python3"
  },
  "language_info": {
   "codemirror_mode": {
    "name": "ipython",
    "version": 3
   },
   "file_extension": ".py",
   "mimetype": "text/x-python",
   "name": "python",
   "nbconvert_exporter": "python",
   "pygments_lexer": "ipython3",
   "version": "3.7.3"
  }
 },
 "nbformat": 4,
 "nbformat_minor": 2
}
